{
  "nbformat": 4,
  "nbformat_minor": 0,
  "metadata": {
    "accelerator": "TPU",
    "colab": {
      "name": "GreenRWA_Hackathon_2021_Get_Taxonomy.ipynb",
      "provenance": [],
      "collapsed_sections": []
    },
    "kernelspec": {
      "display_name": "Python 3",
      "name": "python3"
    }
  },
  "cells": [
    {
      "cell_type": "markdown",
      "metadata": {
        "id": "wMJGC_c3rd0F"
      },
      "source": [
        "<h1>Colab Python Notebook For How Banks Can Save The World Pt 1</h1>\n",
        "\n",
        "<h2>Applies Electra NLP model to company Bios to identify taxonomies</h2>\n",
        "\n",
        "Downloads tensorflow based NLP model 'electra' fine tuned for Q&A\n",
        "\n",
        "Creates input data using company bio as context, using a series of questions designed to pick up company Taxonomy (using a sample of EU TAG taxonomies) \n",
        "\n",
        "Runs predictions on the model using the company bio and questions. The model produces null odds in the form of Logits (https://towardsdatascience.com/logit-of-logistic-regression-understanding-the-fundamentals-f384152a33d1) - essentially for our purposes any score less than -3.0 is satisfactory to indicate that a company matches a given taxonomy. \n",
        "\n"
      ]
    },
    {
      "cell_type": "code",
      "metadata": {
        "id": "MPjXjWRarklP"
      },
      "source": [
        "%tensorflow_version 1.x"
      ],
      "execution_count": null,
      "outputs": []
    },
    {
      "cell_type": "code",
      "metadata": {
        "colab": {
          "base_uri": "https://localhost:8080/"
        },
        "id": "XDot8ZSQrlKF",
        "outputId": "ed8ee31e-a8f4-4e78-b093-5bf3a18f0e86"
      },
      "source": [
        "import tensorflow.compat.v1 as tf\n",
        "import tensorflow.compat.v1 as tensorflow\n",
        "print(tensorflow.__version__)"
      ],
      "execution_count": null,
      "outputs": [
        {
          "output_type": "stream",
          "text": [
            "1.15.2\n"
          ],
          "name": "stdout"
        }
      ]
    },
    {
      "cell_type": "code",
      "metadata": {
        "colab": {
          "base_uri": "https://localhost:8080/"
        },
        "id": "qVvntHaEslrY",
        "outputId": "f816cfa6-75f4-4cf4-9a32-e29dae722c6b"
      },
      "source": [
        "!git clone https://github.com/infospark/electra.git\n"
      ],
      "execution_count": null,
      "outputs": [
        {
          "output_type": "stream",
          "text": [
            "Cloning into 'electra'...\n",
            "remote: Enumerating objects: 378, done.\u001b[K\n",
            "remote: Total 378 (delta 0), reused 0 (delta 0), pack-reused 378\u001b[K\n",
            "Receiving objects: 100% (378/378), 11.88 MiB | 12.41 MiB/s, done.\n",
            "Resolving deltas: 100% (249/249), done.\n"
          ],
          "name": "stdout"
        }
      ]
    },
    {
      "cell_type": "code",
      "metadata": {
        "colab": {
          "base_uri": "https://localhost:8080/"
        },
        "id": "hUv7QqizsxvD",
        "outputId": "6009865d-2410-4fa6-fb86-152d7508afd8"
      },
      "source": [
        "cd /content/electra"
      ],
      "execution_count": null,
      "outputs": [
        {
          "output_type": "stream",
          "text": [
            "/content/electra\n"
          ],
          "name": "stdout"
        }
      ]
    },
    {
      "cell_type": "markdown",
      "metadata": {
        "id": "rp4ow6H8s2MV"
      },
      "source": [
        "# Set up Tensor Environment"
      ]
    },
    {
      "cell_type": "code",
      "metadata": {
        "id": "kFuhbhfxevhY"
      },
      "source": [
        "from google.colab import auth\n",
        "auth.authenticate_user()"
      ],
      "execution_count": null,
      "outputs": []
    },
    {
      "cell_type": "code",
      "metadata": {
        "colab": {
          "base_uri": "https://localhost:8080/"
        },
        "id": "HjFCC9h0s7DC",
        "outputId": "e687561b-e99b-4c47-a1af-51b4f01d991e"
      },
      "source": [
        "import datetime\n",
        "import json\n",
        "import os\n",
        "import pprint\n",
        "import random\n",
        "import string\n",
        "import sys\n",
        "import tensorflow as tf\n",
        "\n",
        "\n",
        "assert 'COLAB_TPU_ADDR' in os.environ, 'ERROR: Not connected to a TPU runtime; please see the first cell in this notebook for instructions!'\n",
        "TPU_ADDRESS = 'grpc://' + os.environ['COLAB_TPU_ADDR']\n",
        "print('TPU address is => ', TPU_ADDRESS)\n",
        "\n",
        "\n",
        "with tf.Session(TPU_ADDRESS) as session:\n",
        "  print('TPU devices:')\n",
        "  pprint.pprint(session.list_devices())\n",
        "\n",
        "  # Upload credentials to TPU.\n",
        "  with open('/content/adc.json', 'r') as f:\n",
        "    auth_info = json.load(f)\n",
        "  tf.contrib.cloud.configure_gcs(session, credentials=auth_info)\n",
        "  # Now credentials are set for all future sessions on this TPU."
      ],
      "execution_count": null,
      "outputs": [
        {
          "output_type": "stream",
          "text": [
            "TPU address is =>  grpc://10.76.239.106:8470\n",
            "TPU devices:\n",
            "[_DeviceAttributes(/job:tpu_worker/replica:0/task:0/device:CPU:0, CPU, -1, 8851134886854969880),\n",
            " _DeviceAttributes(/job:tpu_worker/replica:0/task:0/device:XLA_CPU:0, XLA_CPU, 17179869184, 16748168128226500254),\n",
            " _DeviceAttributes(/job:tpu_worker/replica:0/task:0/device:TPU:0, TPU, 17179869184, 12850536239386584223),\n",
            " _DeviceAttributes(/job:tpu_worker/replica:0/task:0/device:TPU:1, TPU, 17179869184, 11258504247144123985),\n",
            " _DeviceAttributes(/job:tpu_worker/replica:0/task:0/device:TPU:2, TPU, 17179869184, 12404932437011996992),\n",
            " _DeviceAttributes(/job:tpu_worker/replica:0/task:0/device:TPU:3, TPU, 17179869184, 770279234642390250),\n",
            " _DeviceAttributes(/job:tpu_worker/replica:0/task:0/device:TPU:4, TPU, 17179869184, 7113252404208261920),\n",
            " _DeviceAttributes(/job:tpu_worker/replica:0/task:0/device:TPU:5, TPU, 17179869184, 5131295798912748211),\n",
            " _DeviceAttributes(/job:tpu_worker/replica:0/task:0/device:TPU:6, TPU, 17179869184, 15799142114321332056),\n",
            " _DeviceAttributes(/job:tpu_worker/replica:0/task:0/device:TPU:7, TPU, 17179869184, 12747787449566175864),\n",
            " _DeviceAttributes(/job:tpu_worker/replica:0/task:0/device:TPU_SYSTEM:0, TPU_SYSTEM, 8589934592, 962267234331403771)]\n"
          ],
          "name": "stdout"
        }
      ]
    },
    {
      "cell_type": "code",
      "metadata": {
        "colab": {
          "base_uri": "https://localhost:8080/"
        },
        "id": "GbNxw73q2CnJ",
        "outputId": "745bdafd-ae6d-4610-8fe2-0e28b28f1958"
      },
      "source": [
        "%%writefile dev.json\n",
        "{\n",
        "    \"version\": \"v2.0\",\n",
        "    \"data\": [\n",
        "        {\n",
        "            \"title\": \"Taxonomy\",\n",
        "            \"paragraphs\": [\n",
        "                {\n",
        "                    \"qas\": [\n",
        "                        {\n",
        "                            \"question\": \"Is cement produced?\",\n",
        "                            \"id\": \"q_taxonomy_cement_1\",\n",
        "                            \"answers\": [],\n",
        "                            \"is_impossible\": false\n",
        "                        },{\n",
        "                            \"question\": \"Is there cement business?\",\n",
        "                            \"id\": \"q_taxonomy_cement_2\",\n",
        "                            \"answers\": [],\n",
        "                            \"is_impossible\": false\n",
        "                        },{\n",
        "                            \"question\": \"Is cement sold?\",\n",
        "                            \"id\": \"q_taxonomy_cement_3\",\n",
        "                            \"answers\": [],\n",
        "                            \"is_impossible\": false\n",
        "                        },{\n",
        "                            \"question\": \"Is steel produced?\",\n",
        "                            \"id\": \"q_taxonomy_steel_1\",\n",
        "                            \"answers\": [],\n",
        "                            \"is_impossible\": false\n",
        "                        },{\n",
        "                            \"question\": \"Is there steel business?\",\n",
        "                            \"id\": \"q_taxonomy_steel_2\",\n",
        "                            \"answers\": [],\n",
        "                            \"is_impossible\": false\n",
        "                        },{\n",
        "                            \"question\": \"Is steel sold?\",\n",
        "                            \"id\": \"q_taxonomy_steel_3\",\n",
        "                            \"answers\": [],\n",
        "                            \"is_impossible\": false\n",
        "                        },{\n",
        "                            \"question\": \"Is Aluminium produced?\",\n",
        "                            \"id\": \"q_taxonomy_aluminium_1\",\n",
        "                            \"answers\": [],\n",
        "                            \"is_impossible\": false\n",
        "                        },{\n",
        "                            \"question\": \"Is there Aluminium business?\",\n",
        "                            \"id\": \"q_taxonomy_aluminium_2\",\n",
        "                            \"answers\": [],\n",
        "                            \"is_impossible\": false\n",
        "                        },{\n",
        "                            \"question\": \"Is Aluminium sold?\",\n",
        "                            \"id\": \"q_taxonomy_aluminium_3\",\n",
        "                            \"answers\": [],\n",
        "                            \"is_impossible\": false\n",
        "                        },{\n",
        "                            \"question\": \"Are fertilizers or nitrogen compounds produced?\",\n",
        "                            \"id\": \"q_taxonomy_fertilizer_nitrogen_1\",\n",
        "                            \"answers\": [],\n",
        "                            \"is_impossible\": false\n",
        "                        },{\n",
        "                            \"question\": \"Is there Aluminium business?\",\n",
        "                            \"id\": \"q_taxonomy_fertilizer_nitrogen_2\",\n",
        "                            \"answers\": [],\n",
        "                            \"is_impossible\": false\n",
        "                        },{\n",
        "                            \"question\": \"Is Aluminium sold?\",\n",
        "                            \"id\": \"q_taxonomy_fertilizer_nitrogen_3\",\n",
        "                            \"answers\": [],\n",
        "                            \"is_impossible\": false\n",
        "                        },{\n",
        "                            \"question\": \"Are fertilizers or nitrogen compounds produced?\",\n",
        "                            \"id\": \"q_taxonomy_fertilizer_nitrogen\",\n",
        "                            \"answers\": [],\n",
        "                            \"is_impossible\": false\n",
        "                        }\n",
        "                    ],\n",
        "                    \"context\": \"HeidelbergCement is a German multinational building materials company headquartered in Heidelberg, Germany. It is a DAX corporation and is one of the largest building materials companies in the world. On 1 July 2016, HeidelbergCement AG completed the acquisition of a 45% shareholding in Italcementi.  That acquisition made HeidelbergCement the number one producer of construction aggregates, the number 2 in cement and number 3 in ready mixed concrete worldwide. In the 2020 Forbes Global 2000, HeidelbergCement was ranked as the 678th -largest public company in the world.[4] The enlarged group has activities in around 60 countries with 57,000 employees working at 3,000 production sites. HeidelbergCement operates 139 cement plants with an annual cement capacity of 176 million tonnes, more than 1,500 ready-mixed concrete production sites, and over 600 aggregates quarries.[5] HeidelbergCement is responsible for 0.08% of global industrial greenhouse gas emissions from 1751 to 2016[6] and thus one of the largest contributors to climate change, which bears substantial “risks to health, livelihoods, food security, water supply, human security, and economic growth”.[7]\"\n",
        "\n",
        "                }\n",
        "            ]\n",
        "        }\n",
        "    ]\n",
        "}"
      ],
      "execution_count": null,
      "outputs": [
        {
          "output_type": "stream",
          "text": [
            "Writing dev.json\n"
          ],
          "name": "stdout"
        }
      ]
    },
    {
      "cell_type": "code",
      "metadata": {
        "colab": {
          "base_uri": "https://localhost:8080/"
        },
        "id": "DsF6ePwejMQX",
        "outputId": "47a1984b-d3d6-4d77-fa63-ac15953bbfd6"
      },
      "source": [
        "!gsutil mv dev.json gs://jims_bert_test/electra_data_large/finetuning_data/squad/"
      ],
      "execution_count": null,
      "outputs": [
        {
          "output_type": "stream",
          "text": [
            "Copying file://dev.json [Content-Type=application/json]...\n",
            "/ [0 files][    0.0 B/  4.6 KiB]                                                \r/ [1 files][  4.6 KiB/  4.6 KiB]                                                \rRemoving file://dev.json...\n",
            "\n",
            "Operation completed over 1 objects/4.6 KiB.                                      \n"
          ],
          "name": "stdout"
        }
      ]
    },
    {
      "cell_type": "code",
      "metadata": {
        "colab": {
          "base_uri": "https://localhost:8080/"
        },
        "id": "l8Nw8JHZs9vU",
        "outputId": "a0a0eb87-9acc-4254-be57-f53781752c03"
      },
      "source": [
        "!git pull\n",
        "!gsutil rm gs://jims_bert_test/electra_data_large/models/electra_large/finetuning_tfrecords/squad_tfrecords/squad_dev.*\n",
        "!python3 run_finetuning.py --data-dir gs://jims_bert_test/electra_data_large/ --model-name electra_large --hparams '{\"tpu_name\": \"grpc://10.76.239.106:8470\", \"do_train\": false, \"do_eval\": true, \"model_size\": \"large\", \"task_names\": [\"squad\"], \"init_checkpoint\": \"gs://jims_bert_test/electra_data_large/models/electra_large/finetuning_models/squad_model_1\", \"use_tpu\": \"True\", \"num_tpu_cores\":8}'\n",
        "#!python3 run_finetuning.py --data-dir gs://jims_bert_test/electra_data/ --model-name electra_base --hparams '{\"do_train\": false, \"do_eval\": true, \"model_size\": \"base\", \"task_names\": [\"squad\"], \"init_checkpoint\": \"gs://jims_bert_test/electra_data/models/electra_base/finetuning_models/squad_model_1\", \"use_tpu\": \"False\"}'"
      ],
      "execution_count": null,
      "outputs": [
        {
          "output_type": "stream",
          "text": [
            "Already up to date.\n",
            "Removing gs://jims_bert_test/electra_data_large/models/electra_large/finetuning_tfrecords/squad_tfrecords/squad_dev.metadata...\n",
            "Removing gs://jims_bert_test/electra_data_large/models/electra_large/finetuning_tfrecords/squad_tfrecords/squad_dev.tfrecord...\n",
            "/ [2 objects]                                                                   \n",
            "Operation completed over 2 objects.                                              \n",
            "================================================================================\n",
            "Config: model=electra_large, trial 1/1\n",
            "================================================================================\n",
            "answerable_classifier True\n",
            "answerable_uses_start_logits True\n",
            "answerable_weight 0.5\n",
            "beam_size 20\n",
            "data_dir gs://jims_bert_test/electra_data_large/\n",
            "debug False\n",
            "do_eval True\n",
            "do_lower_case True\n",
            "do_train False\n",
            "doc_stride 128\n",
            "double_unordered True\n",
            "embedding_size None\n",
            "eval_batch_size 32\n",
            "exact_file <built-in method format of str object at 0x7fada7c138a0>\n",
            "f1_file <built-in method format of str object at 0x7fada7c13930>\n",
            "gcp_project None\n",
            "init_checkpoint gs://jims_bert_test/electra_data_large/models/electra_large/finetuning_models/squad_model_1\n",
            "iterations_per_loop 1000\n",
            "joint_prediction True\n",
            "keep_all_models True\n",
            "layerwise_lr_decay 0.9\n",
            "learning_rate 5e-05\n",
            "log_examples False\n",
            "max_answer_length 50\n",
            "max_query_length 64\n",
            "max_seq_length 512\n",
            "model_dir gs://jims_bert_test/electra_data_large/models/electra_large/finetuning_models/squad_model\n",
            "model_hparam_overrides {}\n",
            "model_name electra_large\n",
            "model_size large\n",
            "n_best_size 200\n",
            "n_writes_test 5\n",
            "nbest_file <built-in method format of str object at 0x7fada7c13810>\n",
            "num_tpu_cores 8\n",
            "num_train_epochs 2.0\n",
            "num_trials 1\n",
            "predict_batch_size 32\n",
            "preprocessed_data_dir gs://jims_bert_test/electra_data_large/models/electra_large/finetuning_tfrecords/squad_tfrecords\n",
            "qa_eval_file <built-in method format of str object at 0x7fada7c13660>\n",
            "qa_image_dir <built-in method format of str object at 0x7fada7c13a50>\n",
            "qa_na_file <built-in method format of str object at 0x7fada7c139c0>\n",
            "qa_na_threshold -2.75\n",
            "qa_preds_file <built-in method format of str object at 0x7fada7c136f0>\n",
            "raw_data_dir <built-in method format of str object at 0x7fada7c0b030>\n",
            "results_pkl gs://jims_bert_test/electra_data_large/models/electra_large/results/squad_results.pkl\n",
            "results_txt gs://jims_bert_test/electra_data_large/models/electra_large/results/squad_results.txt\n",
            "save_checkpoints_steps 1000000\n",
            "task_names ['squad']\n",
            "test_predictions <built-in method format of str object at 0x7fada7c21a30>\n",
            "tokens_file <built-in method format of str object at 0x7fada7c13780>\n",
            "tpu_job_name None\n",
            "tpu_name grpc://10.76.239.106:8470\n",
            "tpu_zone None\n",
            "train_batch_size 32\n",
            "use_tfrecords_if_existing True\n",
            "use_tpu True\n",
            "vocab_file gs://jims_bert_test/electra_data_large/vocab.txt\n",
            "vocab_size 30522\n",
            "warmup_proportion 0.1\n",
            "weight_decay_rate 0.01\n",
            "write_distill_outputs False\n",
            "write_test_outputs False\n",
            "\n",
            "================================================================================\n",
            "Run dev set evaluation: model=electra_large, trial 1/1\n",
            "================================================================================\n",
            "Evaluating squad\n",
            "Loading dataset squad_dev\n",
            "Existing tfrecords not found so creating\n",
            "13 examples created, 0 failures\n",
            "Writing example 0 of 13\n",
            "2021-01-17 13:09:41.670767: W tensorflow/core/distributed_runtime/rpc/grpc_session.cc:370] GrpcSession::ListDevices will initialize the session with an empty graph and other defaults because the session has not yet been created.\n",
            "2021-01-17 13:09:41.947122: I tensorflow/stream_executor/platform/default/dso_loader.cc:44] Successfully opened dynamic library libcuda.so.1\n",
            "2021-01-17 13:09:41.961861: E tensorflow/stream_executor/cuda/cuda_driver.cc:318] failed call to cuInit: CUDA_ERROR_NO_DEVICE: no CUDA-capable device is detected\n",
            "2021-01-17 13:09:41.961930: I tensorflow/stream_executor/cuda/cuda_diagnostics.cc:156] kernel driver does not appear to be running on this host (c1da65319ce8): /proc/driver/nvidia/version does not exist\n",
            "Building model...\n",
            "Building complete\n",
            "squad: NoAns_exact: 76.92 - NoAns_f1: 76.92 - NoAns_total: 13.00 - best_exact: 100.00 - best_exact_thresh: 0.00 - best_f1: 100.00 - best_f1_thresh: 0.00 - exact: 76.92 - f1: 76.92 - total: 13.00\n",
            "\n",
            "Writing results to gs://jims_bert_test/electra_data_large/models/electra_large/results/squad_results.txt\n"
          ],
          "name": "stdout"
        }
      ]
    },
    {
      "cell_type": "code",
      "metadata": {
        "colab": {
          "base_uri": "https://localhost:8080/"
        },
        "id": "_eVePIMGP-mD",
        "outputId": "82f15a8d-2212-49f8-b519-37be9e4f258a"
      },
      "source": [
        "!gsutil cat gs://jims_bert_test/electra_data_large/models/electra_large/results/squad_qa/squad_null_odds.json"
      ],
      "execution_count": null,
      "outputs": [
        {
          "output_type": "stream",
          "text": [
            "{\"q_taxonomy_cement_1\": -6.846512317657471, \"q_taxonomy_cement_2\": -7.090182304382324, \"q_taxonomy_cement_3\": -3.9172158241271973, \"q_taxonomy_steel_1\": 5.059553146362305, \"q_taxonomy_steel_2\": 0.8183633685112, \"q_taxonomy_steel_3\": 6.963508605957031, \"q_taxonomy_aluminium_1\": 6.155025482177734, \"q_taxonomy_aluminium_2\": 1.4605306386947632, \"q_taxonomy_aluminium_3\": 7.4915242195129395, \"q_taxonomy_fertilizer_nitrogen_1\": 6.001425266265869, \"q_taxonomy_fertilizer_nitrogen_2\": 1.4605306386947632, \"q_taxonomy_fertilizer_nitrogen_3\": 7.4915242195129395, \"q_taxonomy_fertilizer_nitrogen\": 6.001425266265869}"
          ],
          "name": "stdout"
        }
      ]
    },
    {
      "cell_type": "code",
      "metadata": {
        "id": "AJu0Bqy_lnnS"
      },
      "source": [
        ""
      ],
      "execution_count": null,
      "outputs": []
    }
  ]
}